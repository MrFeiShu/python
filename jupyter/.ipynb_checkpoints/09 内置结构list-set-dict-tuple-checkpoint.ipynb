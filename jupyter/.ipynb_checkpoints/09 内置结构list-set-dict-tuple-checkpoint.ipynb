{
 "cells": [
  {
   "cell_type": "code",
   "execution_count": 2,
   "metadata": {},
   "outputs": [
    {
     "name": "stdout",
     "output_type": "stream",
     "text": [
      "[1, 2, 3, 4, 5, 6]\n",
      "[1, 2, 300, 4, 5, 6]\n",
      "[1, 2, 300, 4, 5, 6]\n",
      "9\n",
      "109\n",
      "9\n"
     ]
    }
   ],
   "source": [
    "# 番外\n",
    "# 这里可以看成一个传址调用，会改变外面的值\n",
    "def a(n):\n",
    "    n[2] = 300\n",
    "    print(n)\n",
    "    return None\n",
    "\n",
    "# 这里可以看成一个传值调用，不会改变外面的值\n",
    "def b(n):\n",
    "    n += 100\n",
    "    print(n)\n",
    "    return None\n",
    "\n",
    "an = [1,2,3,4,5,6]\n",
    "bn = 9\n",
    "\n",
    "print(an)\n",
    "a(an)\n",
    "print(an)\n",
    "\n",
    "print(bn)\n",
    "b(bn)\n",
    "print(bn)"
   ]
  },
  {
   "cell_type": "markdown",
   "metadata": {},
   "source": [
    "# 关于列表的函数\n"
   ]
  },
  {
   "cell_type": "code",
   "execution_count": 4,
   "metadata": {},
   "outputs": [
    {
     "data": {
      "text/plain": [
       "['a', 'I love wangxiaojing', 45, 766, (5+4j)]"
      ]
     },
     "execution_count": 4,
     "metadata": {},
     "output_type": "execute_result"
    }
   ],
   "source": [
    "l = ['a', 'I love wangxiaojing', 45,766,5+4j]\n",
    "l"
   ]
  },
  {
   "cell_type": "code",
   "execution_count": 24,
   "metadata": {},
   "outputs": [
    {
     "name": "stdout",
     "output_type": "stream",
     "text": [
      "[1, 2, 3, 4]\n",
      "[1, 2, 3, 4, 100]\n"
     ]
    }
   ],
   "source": [
    "# append 插入一个内容\n",
    "a = [i for i in range(1,5)]\n",
    "print(a)\n",
    "a.append(100)\n",
    "print(a)"
   ]
  },
  {
   "cell_type": "code",
   "execution_count": 25,
   "metadata": {},
   "outputs": [
    {
     "name": "stdout",
     "output_type": "stream",
     "text": [
      "[1, 2, 3, 4, 100]\n",
      "[1, 2, 3, 666, 4, 100]\n"
     ]
    }
   ],
   "source": [
    "# insert：指定位置插入（比较消耗资源，用的比较少）\n",
    "# insert(index, value)，插入位置是index的前面\n",
    "\n",
    "print(a)\n",
    "a.insert(3, 666)\n",
    "print(a)"
   ]
  },
  {
   "cell_type": "code",
   "execution_count": 26,
   "metadata": {},
   "outputs": [
    {
     "name": "stdout",
     "output_type": "stream",
     "text": [
      "[1, 2, 3, 666, 4, 100]\n",
      "100\n",
      "[1, 2, 3, 666, 4]\n"
     ]
    }
   ],
   "source": [
    "# 删除\n",
    "# del 删除\n",
    "# pop 从队尾置拿出一个元素，即把最后一个元素取出来\n",
    "print(a)\n",
    "last_ele = a.pop()\n",
    "print(last_ele)\n",
    "print(a)"
   ]
  },
  {
   "cell_type": "code",
   "execution_count": 30,
   "metadata": {},
   "outputs": [
    {
     "name": "stdout",
     "output_type": "stream",
     "text": [
      "[666, 1, 2, 3, 4]\n",
      "2741720316168\n",
      "2741720316168\n",
      "[1, 2, 3, 4]\n"
     ]
    }
   ],
   "source": [
    "# remove:在列表中删除指定值的元素\n",
    "# 如果被删除的值没在list中，则报错\n",
    "# 即，删除list指定的操作应该使用try excepty语句，或者先行判断\n",
    "a.insert(0,666)\n",
    "print(a)\n",
    "print(id(a))\n",
    "a.remove(666)\n",
    "print(id(a))\n",
    "print(a)\n",
    "\n",
    "# 输出两个ID值一样，remove操作是在原list直接操作"
   ]
  },
  {
   "cell_type": "code",
   "execution_count": 33,
   "metadata": {},
   "outputs": [
    {
     "name": "stdout",
     "output_type": "stream",
     "text": [
      "[]\n",
      "2741720316168\n",
      "2741720316168\n",
      "[]\n"
     ]
    }
   ],
   "source": [
    "# clear:清空\n",
    "print(a)\n",
    "print(id(a))\n",
    "a.clear()\n",
    "print(id(a))\n",
    "print(a)\n",
    "\n",
    "# 如果不需要列表地址保持不变，则清空列表可以使用以下方式\n",
    "#a = list[]\n",
    "#a = []"
   ]
  },
  {
   "cell_type": "code",
   "execution_count": 36,
   "metadata": {},
   "outputs": [
    {
     "name": "stdout",
     "output_type": "stream",
     "text": [
      "[1, 2, 3, 4, 5]\n",
      "2741721469064\n",
      "[5, 4, 3, 2, 1]\n",
      "2741721469064\n"
     ]
    }
   ],
   "source": [
    "# reverse:翻转列表内容，原地翻转\n",
    "a = [1,2,3,4,5]\n",
    "print(a)\n",
    "print(id(a))\n",
    "\n",
    "a.reverse()\n",
    "print(a)\n",
    "print(id(a))"
   ]
  },
  {
   "cell_type": "code",
   "execution_count": 38,
   "metadata": {},
   "outputs": [
    {
     "name": "stdout",
     "output_type": "stream",
     "text": [
      "[1, 2, 3, 4, 5]\n",
      "2741721300744\n",
      "[1, 2, 3, 4, 5, 6, 7, 8, 9, 10]\n",
      "2741721300744\n"
     ]
    }
   ],
   "source": [
    "# extend：扩展列表，两个列表，把一个直接拼接到另一个\n",
    "a = [1,2,3,4,5]\n",
    "b = [6,7,8,9,10]\n",
    "\n",
    "print(a)\n",
    "print(id(a))\n",
    "\n",
    "a.extend(b)\n",
    "\n",
    "print(a)\n",
    "print(id(a))"
   ]
  },
  {
   "cell_type": "code",
   "execution_count": 40,
   "metadata": {},
   "outputs": [
    {
     "name": "stdout",
     "output_type": "stream",
     "text": [
      "[1, 2, 3, 4, 8, 5, 6, 7, 8, 9, 10, 8]\n",
      "2741721300744\n",
      "[1, 2, 3, 4, 8, 8, 5, 6, 7, 8, 9, 10, 8, 8]\n",
      "2741721300744\n",
      "5\n"
     ]
    }
   ],
   "source": [
    "# count:查找列表中指定值或者元素的个数\n",
    "\n",
    "print(a)\n",
    "print(id(a))\n",
    "\n",
    "a.append(8)\n",
    "a.insert(4, 8)\n",
    "print(a)\n",
    "print(id(a))\n",
    "\n",
    "a_len = a.count(8)\n",
    "print(a_len)"
   ]
  },
  {
   "cell_type": "code",
   "execution_count": 42,
   "metadata": {},
   "outputs": [
    {
     "name": "stdout",
     "output_type": "stream",
     "text": [
      "[1, 2, 3, 4, 5, 6]\n",
      "[1, 2, 3, 777, 5, 6]\n",
      "[1, 2, 3, 777, 5, 6]\n",
      "2741721450760\n",
      "2741721450760\n",
      "[1, 2, 3, 777, 5, 6]\n",
      "[1, 2, 3, 777, 5, 6]\n",
      "2741721450760\n",
      "2741721429320\n"
     ]
    }
   ],
   "source": [
    "# copy:拷贝，此函数是浅拷贝\n",
    "# 列表类型变量赋值示例\n",
    "\n",
    "a = [1,2,3,4,5,6]\n",
    "print(a)\n",
    "# list类型，简单赋值是传址操作\n",
    "b = a\n",
    "b[3] = 777\n",
    "print(a)\n",
    "print(b)\n",
    "print(id(a))\n",
    "print(id(b))\n",
    "\n",
    "b = a.copy()\n",
    "print(a)\n",
    "print(b)\n",
    "print(id(a))\n",
    "print(id(b))"
   ]
  },
  {
   "cell_type": "code",
   "execution_count": 2,
   "metadata": {},
   "outputs": [
    {
     "name": "stdout",
     "output_type": "stream",
     "text": [
      "1386729986056\n",
      "1386729985928\n",
      "1386729985992\n",
      "1386729985992\n",
      "[1, 2, 3, [10, 20, 666]]\n",
      "[1, 2, 3, [10, 20, 666]]\n"
     ]
    }
   ],
   "source": [
    "# 深拷贝跟浅拷贝的区别\n",
    "# 出现下列问题的原因是，copy函数是浅拷贝函数，即只拷贝一层内容\n",
    "# 深拷贝需要使用特定工具\n",
    "a = [1,2,3, [10,20,30]]\n",
    "b = a.copy()\n",
    "print(id(a))\n",
    "print(id(b))\n",
    "print(id(a[3]))\n",
    "print(id(b[3]))\n",
    "a[3][2] = 666\n",
    "print(a)\n",
    "print(b)"
   ]
  },
  {
   "cell_type": "markdown",
   "metadata": {},
   "source": [
    "# 元组-tuple\n",
    "- 元组可以看成是一个不可更改的list\n",
    "## 元组创建\n"
   ]
  },
  {
   "cell_type": "code",
   "execution_count": 12,
   "metadata": {},
   "outputs": [
    {
     "name": "stdout",
     "output_type": "stream",
     "text": [
      "<class 'tuple'>\n",
      "<class 'tuple'>\n",
      "(1,)\n",
      "<class 'tuple'>\n",
      "(1, 2, 3, 4, 5)\n",
      "<class 'tuple'>\n",
      "(1, 2, 3, 4, 5)\n",
      "<class 'tuple'>\n",
      "(1, 2, 3, 4, 5)\n"
     ]
    }
   ],
   "source": [
    "# 创建空元组\n",
    "t = ()\n",
    "print(type(t))\n",
    "\n",
    "# 创建一个只有一个值的元组\n",
    "# t = (1)\n",
    "# t = 1,\n",
    "t = (1,)\n",
    "print(type(t))\n",
    "print(t)\n",
    "\n",
    "# 创建多个值的元组\n",
    "t = (1,2,3,4,5)\n",
    "print(type(t))\n",
    "print(t)\n",
    "\n",
    "t = 1,2,3,4,5\n",
    "print(type(t))\n",
    "print(t)\n",
    "\n",
    "# 使用其他结构创建\n",
    "l = [1,2,3,4,5]\n",
    "t = tuple(l)\n",
    "print(type(t))\n",
    "print(t)"
   ]
  },
  {
   "cell_type": "markdown",
   "metadata": {},
   "source": [
    "## 元组的特性\n",
    "- 是序列表，有序\n",
    "- 元组数据值可以访问，不能修改，不能修改，不能修改\n",
    "- 元组数据可以是任意类型\n",
    "- 总之，list所有特性，除了可修改之外，元组都具有\n",
    "- 也就意味着，list具有的一些操作，比如索引、分片和相加，相乘，成员资格操作等，一模一样"
   ]
  },
  {
   "cell_type": "code",
   "execution_count": 13,
   "metadata": {},
   "outputs": [
    {
     "name": "stdout",
     "output_type": "stream",
     "text": [
      "5\n"
     ]
    }
   ],
   "source": [
    "# 索引操作\n",
    "t = (1,2,3,4,5)\n",
    "print(t[4])"
   ]
  },
  {
   "cell_type": "code",
   "execution_count": 15,
   "metadata": {},
   "outputs": [
    {
     "ename": "IndexError",
     "evalue": "tuple index out of range",
     "output_type": "error",
     "traceback": [
      "\u001b[1;31m---------------------------------------------------------------------------\u001b[0m",
      "\u001b[1;31mIndexError\u001b[0m                                Traceback (most recent call last)",
      "\u001b[1;32m<ipython-input-15-0db0bf4ec3b5>\u001b[0m in \u001b[0;36m<module>\u001b[1;34m()\u001b[0m\n\u001b[0;32m      1\u001b[0m \u001b[1;31m# 超标错误\u001b[0m\u001b[1;33m\u001b[0m\u001b[1;33m\u001b[0m\u001b[0m\n\u001b[1;32m----> 2\u001b[1;33m \u001b[0mprint\u001b[0m\u001b[1;33m(\u001b[0m\u001b[0mt\u001b[0m\u001b[1;33m[\u001b[0m\u001b[1;36m12\u001b[0m\u001b[1;33m]\u001b[0m\u001b[1;33m)\u001b[0m\u001b[1;33m\u001b[0m\u001b[0m\n\u001b[0m",
      "\u001b[1;31mIndexError\u001b[0m: tuple index out of range"
     ]
    }
   ],
   "source": [
    "# 超标错误\n",
    "print(t[12])"
   ]
  },
  {
   "cell_type": "code",
   "execution_count": 20,
   "metadata": {},
   "outputs": [
    {
     "name": "stdout",
     "output_type": "stream",
     "text": [
      "1386728622216\n",
      "1386729910560\n",
      "(2, 4, 6)\n",
      "(3, 4, 5, 6)\n"
     ]
    }
   ],
   "source": [
    "t = (1,2,3,4,5,6)\n",
    "t1 = t[1::2]\n",
    "print(id(t))\n",
    "print(id(t1))\n",
    "print(t1)\n",
    "\n",
    "# 切片可以超标\n",
    "t2 = t[2:100]\n",
    "print(t2)"
   ]
  },
  {
   "cell_type": "code",
   "execution_count": 24,
   "metadata": {},
   "outputs": [
    {
     "name": "stdout",
     "output_type": "stream",
     "text": [
      "1386729739752\n",
      "1386728449584\n",
      "(1, 2, 3)\n",
      "(4, 5, 6)\n",
      "1386729323592\n",
      "1386728449584\n",
      "(1, 2, 3, 4, 5, 6)\n",
      "(4, 5, 6)\n"
     ]
    }
   ],
   "source": [
    "# 序列相加\n",
    "t1 = (1,2,3)\n",
    "t2 = (4,5,6)\n",
    "print(id(t1))\n",
    "print(id(t2))\n",
    "print(t1)\n",
    "print(t2)\n",
    "t1 += t2\n",
    "print(id(t1))\n",
    "print(id(t2))\n",
    "print(t1)\n",
    "print(t2)\n",
    "# 元组内容不能被修改，此处t1的内容虽然被更改，其实并不是原来那个t1，\n",
    "# 相加后的t1的id已经不再是以前的，是一个新的元组。而原来的没有被改变。"
   ]
  }
 ],
 "metadata": {
  "kernelspec": {
   "display_name": "Python 3",
   "language": "python",
   "name": "python3"
  },
  "language_info": {
   "codemirror_mode": {
    "name": "ipython",
    "version": 3
   },
   "file_extension": ".py",
   "mimetype": "text/x-python",
   "name": "python",
   "nbconvert_exporter": "python",
   "pygments_lexer": "ipython3",
   "version": "3.6.5"
  }
 },
 "nbformat": 4,
 "nbformat_minor": 2
}
