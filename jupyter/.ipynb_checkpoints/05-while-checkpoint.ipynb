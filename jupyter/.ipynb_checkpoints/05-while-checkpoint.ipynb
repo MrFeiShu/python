{
 "cells": [
  {
   "cell_type": "markdown",
   "metadata": {},
   "source": [
    "# while循环\n",
    "- 一个循环语句\n",
    "- 表示当某条件成立的时候，就循环\n",
    "- 不知道具体循环次数，但能确定循环的成立条件的时候，就用while循环\n",
    "- while语法：\n",
    "\n",
    "        while 条件表达式：\n",
    "            语句块\n",
    "            \n",
    "        # 另外一种表达方法\n",
    "        while 条件表达式：\n",
    "            语句块1\n",
    "        else:\n",
    "            语句块2"
   ]
  },
  {
   "cell_type": "code",
   "execution_count": 1,
   "metadata": {},
   "outputs": [
    {
     "name": "stdout",
     "output_type": "stream",
     "text": [
      "第1年拿了106700.0块钱。\n",
      "第2年拿了113848.9块钱。\n",
      "第3年拿了121476.77629999998块钱。\n",
      "第4年拿了129615.72031209998块钱。\n",
      "第5年拿了138299.97357301068块钱。\n",
      "第6年拿了147566.07180240238块钱。\n",
      "第7年拿了157452.99861316333块钱。\n",
      "第8年拿了168002.34952024528块钱。\n",
      "第9年拿了179258.5069381017块钱。\n",
      "第10年拿了191268.8269029545块钱。\n",
      "第11年拿了204083.83830545243块钱。\n"
     ]
    }
   ],
   "source": [
    "# 如果说年利率是6.7%，本利是每年翻滚，则多少年后本钱会翻倍\n",
    "benqian = 100000\n",
    "year = 0\n",
    "while benqian < 200000:\n",
    "    benqian = benqian * (1+0.067)\n",
    "    year += 1 # year = year +1\n",
    "    print(\"第{0}年拿了{1}块钱。\".format(year, benqian))"
   ]
  },
  {
   "cell_type": "code",
   "execution_count": 2,
   "metadata": {},
   "outputs": [
    {
     "name": "stdout",
     "output_type": "stream",
     "text": [
      "第1年拿了106700.0块钱。\n",
      "第2年拿了113848.9块钱。\n",
      "第3年拿了121476.77629999998块钱。\n",
      "第4年拿了129615.72031209998块钱。\n",
      "第5年拿了138299.97357301068块钱。\n",
      "第6年拿了147566.07180240238块钱。\n",
      "第7年拿了157452.99861316333块钱。\n",
      "第8年拿了168002.34952024528块钱。\n",
      "第9年拿了179258.5069381017块钱。\n",
      "第10年拿了191268.8269029545块钱。\n",
      "第11年拿了204083.83830545243块钱。\n",
      "大爷的，终于翻倍了，10多年呀\n",
      "当年的10万可以盖个房子，现在儿子结婚，20万可以给他盖个新房了\n"
     ]
    }
   ],
   "source": [
    "# 如果说年利率是6.7%，本利是每年翻滚，则多少年后本钱会翻倍\n",
    "# 如果拿到的钱翻倍，则用print庆贺一下\n",
    "benqian = 100000\n",
    "year = 0\n",
    "while benqian < 200000:\n",
    "    benqian = benqian * (1+0.067)\n",
    "    year += 1 # year = year +1\n",
    "    print(\"第{0}年拿了{1}块钱。\".format(year, benqian))\n",
    "else:\n",
    "    print(\"大爷的，终于翻倍了，10多年呀\")\n",
    "    print(\"当年的10万可以盖个房子，现在儿子结婚，20万可以给他盖个新房了\")"
   ]
  },
  {
   "cell_type": "markdown",
   "metadata": {},
   "source": []
  }
 ],
 "metadata": {
  "kernelspec": {
   "display_name": "Python 3",
   "language": "python",
   "name": "python3"
  },
  "language_info": {
   "codemirror_mode": {
    "name": "ipython",
    "version": 3
   },
   "file_extension": ".py",
   "mimetype": "text/x-python",
   "name": "python",
   "nbconvert_exporter": "python",
   "pygments_lexer": "ipython3",
   "version": "3.6.5"
  }
 },
 "nbformat": 4,
 "nbformat_minor": 2
}
