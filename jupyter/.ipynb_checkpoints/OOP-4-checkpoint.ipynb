{
 "cells": [
  {
   "cell_type": "code",
   "execution_count": 5,
   "metadata": {},
   "outputs": [
    {
     "name": "stdout",
     "output_type": "stream",
     "text": [
      "Hai, my name is LIU YING\n",
      "Hai, my name is MICHI STANGLE\n"
     ]
    }
   ],
   "source": [
    "# 属性案例\n",
    "# 创建Student类，描述学生类\n",
    "# 学生具有Student.name属性\n",
    "# 但name格式并不统一\n",
    "# 可以用增加一个函数，然后自动调用的方式，但是很蠢\n",
    "class Student():\n",
    "    def __init__(self, name, age):\n",
    "        self.name = name\n",
    "        self.age = age\n",
    "        \n",
    "        # 如果不想修改代码\n",
    "        self.setName(name)\n",
    "        \n",
    "    # 介绍自己\n",
    "    def intro(self):\n",
    "        print(\"Hai, my name is {0}\".format(self.name))\n",
    "        \n",
    "    def setName(self,name):\n",
    "        self.name = name.upper()\n",
    "        \n",
    "s1 = Student(\"LIU YING\", 19)\n",
    "s2 = Student(\"michi stangle\", 24)\n",
    "\n",
    "s1.intro()\n",
    "s2.intro()"
   ]
  },
  {
   "cell_type": "code",
   "execution_count": 14,
   "metadata": {},
   "outputs": [
    {
     "name": "stdout",
     "output_type": "stream",
     "text": [
      "TULINGTULING\n",
      "24\n"
     ]
    }
   ],
   "source": [
    "# property案例\n",
    "# 定义一个Person类，具有name，age属性\n",
    "# 对于任意输入的姓名，都是大写方式保存\n",
    "# 对于年龄，都是整数保存\n",
    "# property(fget,fset,fdel,doc)\n",
    "class Person():\n",
    "    '''\n",
    "    这是一个人，一个高尚的人，一个脱离了低级趣味的人\n",
    "    他还有属性\n",
    "    '''\n",
    "    # 函数名称可以任意\n",
    "    def fget(self):\n",
    "        return self._name * 2\n",
    "    def fset(self,name):\n",
    "        self._name = name.upper()\n",
    "    def fdel(self):\n",
    "        self._name = \"NoName\"\n",
    "    name = property(fget, fset, fdel,\"对name进行操作\")\n",
    "        \n",
    "    def fgetage(self):\n",
    "        return self._age * 2\n",
    "    def fsetage(self,age):\n",
    "        self._age = int(age)\n",
    "    def fdelage(self):\n",
    "        self._age = 0\n",
    "    age = property(fgetage,fsetage,fdelage,\"对age进行操作\")\n",
    "    \n",
    "p1 = Person()\n",
    "p1.name = \"TuLing\"\n",
    "p1.age = 12.3\n",
    "print(p1.name)\n",
    "print(p1.age)"
   ]
  },
  {
   "cell_type": "code",
   "execution_count": 18,
   "metadata": {},
   "outputs": [
    {
     "name": "stdout",
     "output_type": "stream",
     "text": [
      "{'__module__': '__main__', '__doc__': '\\n    这是一个人，一个高尚的人，一个脱离了低级趣味的人\\n    他还有属性\\n    ', 'fget': <function Person.fget at 0x000002D6F3DEA378>, 'fset': <function Person.fset at 0x000002D6F3DEA268>, 'fdel': <function Person.fdel at 0x000002D6F3DEA2F0>, 'name': <property object at 0x000002D6F3DF0548>, 'fgetage': <function Person.fgetage at 0x000002D6F3DEA0D0>, 'fsetage': <function Person.fsetage at 0x000002D6F3DEA400>, 'fdelage': <function Person.fdelage at 0x000002D6F3DEA488>, 'age': <property object at 0x000002D6F3DF0598>, '__dict__': <attribute '__dict__' of 'Person' objects>, '__weakref__': <attribute '__weakref__' of 'Person' objects>}\n",
      "****************************************************************************************************\n",
      "\n",
      "    这是一个人，一个高尚的人，一个脱离了低级趣味的人\n",
      "    他还有属性\n",
      "    \n",
      "****************************************************************************************************\n",
      "Person\n",
      "****************************************************************************************************\n",
      "(<class 'object'>,)\n"
     ]
    }
   ],
   "source": [
    "# 类的内置属性\n",
    "print(Person.__dict__)\n",
    "print(\"*\" * 100)\n",
    "print(Person.__doc__)\n",
    "print(\"*\" * 100)\n",
    "print(Person.__name__)\n",
    "print(\"*\" * 100)\n",
    "print(Person.__bases__)"
   ]
  },
  {
   "cell_type": "code",
   "execution_count": 23,
   "metadata": {},
   "outputs": [
    {
     "name": "stdout",
     "output_type": "stream",
     "text": [
      "call\n",
      "str\n"
     ]
    }
   ],
   "source": [
    "# __call__\n",
    "class A():\n",
    "    def __call__(self):\n",
    "        print(\"call\")\n",
    "        \n",
    "    def __str__(self):\n",
    "        return \"str\"\n",
    "a = A()\n",
    "a()\n",
    "print(a)"
   ]
  },
  {
   "cell_type": "code",
   "execution_count": 27,
   "metadata": {},
   "outputs": [
    {
     "name": "stdout",
     "output_type": "stream",
     "text": [
      "NoName\n",
      "****************************************************************************************************\n",
      "Not found\n",
      "----addr----\n",
      "None\n"
     ]
    }
   ],
   "source": [
    "# __getattr__\n",
    "class A():\n",
    "    name = \"NoName\"\n",
    "    age = 18\n",
    "    def __getattr__(self,name):\n",
    "        print(\"Not found\")\n",
    "        print(\"----{0}----\".format(name))\n",
    "        \n",
    "a = A()\n",
    "print(a.name)\n",
    "print(\"*\" * 100)\n",
    "print(a.addr)\n",
    "# 为什么会打印第四句话，并且还是None"
   ]
  },
  {
   "cell_type": "code",
   "execution_count": 31,
   "metadata": {},
   "outputs": [
    {
     "name": "stdout",
     "output_type": "stream",
     "text": [
      "{}\n",
      "设置属性：age\n",
      "18\n"
     ]
    }
   ],
   "source": [
    "# __setattr__\n",
    "class Person():\n",
    "    def __init__(self):\n",
    "        pass\n",
    "    def __setattr__(self,name,value):\n",
    "        print(\"设置属性：{0}\".format(name))\n",
    "        # 下面语句会导致死循环\n",
    "        # self.name = value\\\n",
    "        # 此种情况，为了避免死循环，规定同一调用父类魔法函数\n",
    "        super().__setattr__(name,value)\n",
    "\n",
    "p = Person()\n",
    "print(p.__dict__)\n",
    "p.age = 18\n",
    "print(p.age)"
   ]
  },
  {
   "cell_type": "code",
   "execution_count": 34,
   "metadata": {},
   "outputs": [
    {
     "name": "stdout",
     "output_type": "stream",
     "text": [
      "haha,one会比two大吗？\n",
      "False\n"
     ]
    }
   ],
   "source": [
    "# __gt__\n",
    "\n",
    "class Student():\n",
    "    def __init__(self,name):\n",
    "        self._name = name\n",
    "    def __gt__(self,obj):\n",
    "        print(\"haha,{0}会比{1}大吗？\".format(self._name,obj._name))\n",
    "        return self._name > obj._name\n",
    "    \n",
    "# ？字符串比较是按照什么规则\n",
    "stu1 = Student(\"one\")\n",
    "stu2 = Student(\"two\")\n",
    "\n",
    "print(stu1 > stu2)"
   ]
  },
  {
   "cell_type": "code",
   "execution_count": 38,
   "metadata": {},
   "outputs": [
    {
     "name": "stdout",
     "output_type": "stream",
     "text": [
      "<__main__.Person object at 0x000002D6F3DA5358>\n",
      "eat....\n",
      "<class '__main__.Person'>\n",
      "play.....\n",
      "<class '__main__.Person'>\n",
      "play.....\n",
      "say.....\n",
      "say.....\n"
     ]
    }
   ],
   "source": [
    "# 三种方法\n",
    "class Person():\n",
    "    # 实例方法\n",
    "    def eat(self):\n",
    "        print(self)\n",
    "        print(\"eat....\")\n",
    "    \n",
    "    # 类方法\n",
    "    # 类方法的第一个参数，一般命名为cls，区别于self\n",
    "    @classmethod\n",
    "    def play(cls):\n",
    "        print(cls)\n",
    "        print(\"play.....\")\n",
    "        \n",
    "    # 静态方法\n",
    "    # 不需要第一个参数表示自身或者类\n",
    "    @staticmethod\n",
    "    def say():\n",
    "        print(\"say.....\")\n",
    "        \n",
    "yueyue = Person()\n",
    "\n",
    "# 实例方法\n",
    "yueyue.eat()\n",
    "\n",
    "# 类方法\n",
    "Person.play()\n",
    "yueyue.play()\n",
    "\n",
    "# 静态方法\n",
    "Person.say()\n",
    "yueyue.say()"
   ]
  }
 ],
 "metadata": {
  "kernelspec": {
   "display_name": "Python 3",
   "language": "python",
   "name": "python3"
  },
  "language_info": {
   "codemirror_mode": {
    "name": "ipython",
    "version": 3
   },
   "file_extension": ".py",
   "mimetype": "text/x-python",
   "name": "python",
   "nbconvert_exporter": "python",
   "pygments_lexer": "ipython3",
   "version": "3.6.5"
  }
 },
 "nbformat": 4,
 "nbformat_minor": 2
}
