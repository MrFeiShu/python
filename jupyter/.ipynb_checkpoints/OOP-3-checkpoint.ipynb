{
 "cells": [
  {
   "cell_type": "code",
   "execution_count": 3,
   "metadata": {},
   "outputs": [
    {
     "name": "stdout",
     "output_type": "stream",
     "text": [
      "i am flying.....\n",
      "i am swimming.....\n",
      "i am working.....\n"
     ]
    }
   ],
   "source": [
    "# 多继承\n",
    "# 子类可以直接拥有父类的属性和方法，私有成员除外\n",
    "class Fish():\n",
    "    def __init__(self,name):\n",
    "        self.name = name\n",
    "    def swim(self):\n",
    "        print(\"i am swimming.....\")\n",
    "        \n",
    "class Bird():\n",
    "    def __init__(self, name):\n",
    "        self.name = name\n",
    "    def fly(self):\n",
    "        print(\"i am flying.....\")\n",
    "        \n",
    "class Person():\n",
    "    def __init__(self, name):\n",
    "        self.name = name\n",
    "        \n",
    "    def work(self):\n",
    "        print(\"i am working.....\")\n",
    "        \n",
    "class SuperMan(Person,Bird,Fish):\n",
    "    def __init__(self, name):\n",
    "        self.name = name\n",
    "        \n",
    "class SwimMan(Person,Fish):\n",
    "    def __init__(self,name):\n",
    "        self.name = name\n",
    "        \n",
    "s = SuperMan(\"yueyue\")\n",
    "s.fly()\n",
    "s.swim()\n",
    "\n",
    "\n",
    "# 单继承\n",
    "class Student(Person):\n",
    "    def __init__(self,name):\n",
    "        self.name = name\n",
    "        \n",
    "stu = Student(\"yueyue\")\n",
    "stu.work()"
   ]
  },
  {
   "cell_type": "code",
   "execution_count": 7,
   "metadata": {},
   "outputs": [
    {
     "name": "stdout",
     "output_type": "stream",
     "text": [
      "(<class '__main__.Tutor'>, <class '__main__.Teacher'>, <class '__main__.Student'>, <class '__main__.Person'>, <class 'object'>)\n",
      "{}\n",
      "{'__module__': '__main__', '__doc__': None}\n",
      "******************************\n",
      "(<class '__main__.TutorM'>, <class '__main__.Person'>, <class '__main__.TeacherMixin'>, <class '__main__.StudentMixin'>, <class 'object'>)\n",
      "{}\n",
      "{'__module__': '__main__', '__doc__': None}\n"
     ]
    }
   ],
   "source": [
    "# Mixin案例\n",
    "class Person():\n",
    "    name = \"liuying\"\n",
    "    age = 18\n",
    "    \n",
    "    def eat(self):\n",
    "        print(\"eat\")\n",
    "        \n",
    "    def drink(self):\n",
    "        print(\"drink\")\n",
    "        \n",
    "    def sleep(self):\n",
    "        print(\"sleep\")\n",
    "        \n",
    "class Teacher(Person):\n",
    "    def work(self):\n",
    "        print(\"work\")\n",
    "        \n",
    "class Student(Person):\n",
    "    def study(self):\n",
    "        print(\"study\")\n",
    "        \n",
    "class Tutor(Teacher, Student):\n",
    "    pass\n",
    "\n",
    "t = Tutor()\n",
    "print(Tutor.__mro__)\n",
    "print(t.__dict__)\n",
    "print(Tutor.__dict__)\n",
    "\n",
    "print(\"*\" * 30)\n",
    "\n",
    "class TeacherMixin():\n",
    "    def work(self):\n",
    "        print(\"work\")\n",
    "        \n",
    "class StudentMixin():\n",
    "    def study(self):\n",
    "        print(\"study\")\n",
    "        \n",
    "class TutorM(Person, TeacherMixin, StudentMixin):\n",
    "    pass\n",
    "\n",
    "tt = TutorM()\n",
    "print(TutorM.__mro__)\n",
    "print(tt.__dict__)\n",
    "print(TutorM.__dict__)"
   ]
  },
  {
   "cell_type": "code",
   "execution_count": 9,
   "metadata": {},
   "outputs": [
    {
     "name": "stdout",
     "output_type": "stream",
     "text": [
      "True\n"
     ]
    }
   ],
   "source": [
    "# issubclass\n",
    "class A():\n",
    "    pass\n",
    "\n",
    "class B(A):\n",
    "    pass\n",
    "\n",
    "class C():\n",
    "    pass\n",
    "\n",
    "print(issubclass(B,A))"
   ]
  },
  {
   "cell_type": "code",
   "execution_count": 11,
   "metadata": {},
   "outputs": [
    {
     "name": "stdout",
     "output_type": "stream",
     "text": [
      "True\n",
      "False\n"
     ]
    }
   ],
   "source": [
    "# isinstance\n",
    "class A():\n",
    "    pass\n",
    "\n",
    "a = A()\n",
    "print(isinstance(a,A))\n",
    "print(isinstance(A,A))"
   ]
  },
  {
   "cell_type": "code",
   "execution_count": 12,
   "metadata": {},
   "outputs": [
    {
     "name": "stdout",
     "output_type": "stream",
     "text": [
      "True\n"
     ]
    }
   ],
   "source": [
    "# hasattr\n",
    "class A():\n",
    "    name = \"NoName\"\n",
    "    \n",
    "a = A()\n",
    "print(hasattr(a, \"name\"))"
   ]
  }
 ],
 "metadata": {
  "kernelspec": {
   "display_name": "Python 3",
   "language": "python",
   "name": "python3"
  },
  "language_info": {
   "codemirror_mode": {
    "name": "ipython",
    "version": 3
   },
   "file_extension": ".py",
   "mimetype": "text/x-python",
   "name": "python",
   "nbconvert_exporter": "python",
   "pygments_lexer": "ipython3",
   "version": "3.6.5"
  }
 },
 "nbformat": 4,
 "nbformat_minor": 2
}
