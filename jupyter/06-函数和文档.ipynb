{
 "cells": [
  {
   "cell_type": "markdown",
   "metadata": {},
   "source": [
    "# 函数\n",
    "- 代码的一种组织形式\n",
    "- 一个函数一般完成一项特定的功能\n",
    "- 函数使用\n",
    "    - 函数需要先定义\n",
    "    - 使用函数，俗称调用\n",
    "   "
   ]
  },
  {
   "cell_type": "code",
   "execution_count": 52,
   "metadata": {},
   "outputs": [],
   "source": [
    "# 定义一个函数\n",
    "# 只是定义的话不会执行\n",
    "# 1、def关键字，后跟一个空格\n",
    "# 2、函数名，自己定义，起名需要遵循命名规则，约定俗成，不用大驼峰(只给类用)\n",
    "# 3、后面括号和冒号不能省，括号内可以有参数\n",
    "# 4、函数内所有代码缩进\n",
    "def func():\n",
    "    print(\"我是一个函数\")\n",
    "    print(\"我要完成一定功能\")\n",
    "    print(\"我结束了\")"
   ]
  },
  {
   "cell_type": "code",
   "execution_count": 53,
   "metadata": {},
   "outputs": [
    {
     "name": "stdout",
     "output_type": "stream",
     "text": [
      "我是一个函数\n",
      "我要完成一定功能\n",
      "我结束了\n"
     ]
    }
   ],
   "source": [
    "# 函数调用\n",
    "# 直接函数名后面跟括号\n",
    "func()"
   ]
  },
  {
   "cell_type": "markdown",
   "metadata": {},
   "source": [
    "## 参数的定义和使用\n",
    "- 参数：负责给函数传递一些必要的数据或者信息\n",
    "    - 形参（形式参数）：在函数定义的时候用到的参数没有具体值，只是一个占位符号，成为形参\n",
    "    - 实参（实际参数）：在调用函数时输入的值\n",
    "- 返回值：函数的执行结果\n",
    "    - 使用return关键字\n",
    "    - 如果没有return，默认返回一个None\n",
    "    - 函数一旦执行return，则无条件结束函数执行"
   ]
  },
  {
   "cell_type": "code",
   "execution_count": 54,
   "metadata": {},
   "outputs": [
    {
     "name": "stdout",
     "output_type": "stream",
     "text": [
      "明月， 你肿么了\n",
      "sir, 你不理睬额额就走了\n"
     ]
    }
   ],
   "source": [
    "# 参数的定义是使用\n",
    "# 参数的person只是一个符号，代表队黑色调用的时候的某一个数据\n",
    "def hello(person):\n",
    "    print(\"{0}， 你肿么了\".format(person))\n",
    "    print(\"sir, 你不理睬额额就走了\")\n",
    "    \n",
    "p = \"明月\"\n",
    "hello(p)"
   ]
  },
  {
   "cell_type": "code",
   "execution_count": 55,
   "metadata": {},
   "outputs": [
    {
     "name": "stdout",
     "output_type": "stream",
     "text": [
      "明月， 你肿么了\n",
      "sir, 你不理睬额额就走了\n",
      "我已经跟明月打招呼了，明月不理我\n"
     ]
    }
   ],
   "source": [
    "# return语句的使用\n",
    "# 函数打完招呼后返回一句话\n",
    "def hello(person):\n",
    "    print(\"{0}， 你肿么了\".format(person))\n",
    "    print(\"sir, 你不理睬额额就走了\")\n",
    "    \n",
    "    return \"我已经跟{0}打招呼了，{0}不理我\".format(person)\n",
    "\n",
    "p = \"明月\"\n",
    "print(hello(p))"
   ]
  },
  {
   "cell_type": "code",
   "execution_count": 56,
   "metadata": {},
   "outputs": [
    {
     "name": "stdout",
     "output_type": "stream",
     "text": [
      "明月， 你肿么了\n",
      "哈哈，我提前结束了\n"
     ]
    }
   ],
   "source": [
    "# return案例2：无条件结束\n",
    "def hello(person):\n",
    "    print(\"{0}， 你肿么了\".format(person))\n",
    "    return \"哈哈，我提前结束了\"\n",
    "    print(\"sir, 你不理睬额额就走了\")\n",
    "    \n",
    "p = \"明月\"\n",
    "print(hello(p))"
   ]
  },
  {
   "cell_type": "code",
   "execution_count": 57,
   "metadata": {},
   "outputs": [
    {
     "name": "stdout",
     "output_type": "stream",
     "text": [
      "Help on built-in function print in module builtins:\n",
      "\n",
      "print(...)\n",
      "    print(value, ..., sep=' ', end='\\n', file=sys.stdout, flush=False)\n",
      "    \n",
      "    Prints the values to a stream, or to sys.stdout by default.\n",
      "    Optional keyword arguments:\n",
      "    file:  a file-like object (stream); defaults to the current sys.stdout.\n",
      "    sep:   string inserted between values, default a space.\n",
      "    end:   string appended after the last value, default a newline.\n",
      "    flush: whether to forcibly flush the stream.\n",
      "\n"
     ]
    }
   ],
   "source": [
    "# 查找函数帮助文档\n",
    "# 1、用help函数\n",
    "help(print)"
   ]
  },
  {
   "cell_type": "code",
   "execution_count": 58,
   "metadata": {},
   "outputs": [
    {
     "name": "stdout",
     "output_type": "stream",
     "text": [
      "1 ...................................\n",
      "2 4 ...................................\n",
      "3 6 9 ...................................\n",
      "4 8 12 16 ...................................\n",
      "5 10 15 20 25 ...................................\n",
      "6 12 18 24 30 36 ...................................\n",
      "7 14 21 28 35 42 49 ...................................\n",
      "8 16 24 32 40 48 56 64 ...................................\n",
      "9 18 27 36 45 54 63 72 81 ...................................\n"
     ]
    }
   ],
   "source": [
    "# 九九乘法表\n",
    "# version 1.0\n",
    "for row in range(1,10):\n",
    "    # 打印一行\n",
    "    for col in range(1,row+1):\n",
    "        # print函数默认任务打印完毕后换行\n",
    "        print(row * col, end=\" \")\n",
    "    print(\"...................................\")"
   ]
  },
  {
   "cell_type": "code",
   "execution_count": 59,
   "metadata": {},
   "outputs": [
    {
     "name": "stdout",
     "output_type": "stream",
     "text": [
      "1\t\n",
      "2\t4\t\n",
      "3\t6\t9\t\n",
      "4\t8\t12\t16\t\n",
      "5\t10\t15\t20\t25\t\n",
      "6\t12\t18\t24\t30\t36\t\n",
      "7\t14\t21\t28\t35\t42\t49\t\n",
      "8\t16\t24\t32\t40\t48\t56\t64\t\n",
      "9\t18\t27\t36\t45\t54\t63\t72\t81\t\n"
     ]
    }
   ],
   "source": [
    "# 定义一个函数，打印一行\n",
    "def printLine(row):\n",
    "    for col in range(1,row+1):\n",
    "        # print函数默认任务打印完毕后换行\n",
    "        print(row * col, end=\"\\t\")\n",
    "    print(\"\")\n",
    "\n",
    "# 九九乘法表\n",
    "# version 2.0\n",
    "for row in range(1,10):\n",
    "    printLine(row)"
   ]
  },
  {
   "cell_type": "markdown",
   "metadata": {},
   "source": [
    "## 参数详解\n",
    "- [参考资料](https://www.cnblogs.com/bingabcd/p/6671368.html)\n",
    "- python参考资料：headfrist python -> 零基础入门学习python（小甲鱼）-->习题-->后期可以考虑腾讯公开免费课\n",
    "- **本讲义参考的是流畅的python**\n",
    "- 参数分类\n",
    "    - 普通参数\n",
    "    - 默认参数\n",
    "    - 关键字参数\n",
    "    - 收集参数\n",
    "- 普通参数\n",
    "    - 参见上面实例\n",
    "    - 定义的时候直接定义变量名\n",
    "    - 调用的时候直接把变量名或者值放入指定位置\n",
    "    \n",
    "            def 函数名 （参数1，参数2，...）:\n",
    "                    函数体\n",
    "                    \n",
    "            # 调用\n",
    "            函数名(value1, value2, ...)\n",
    "            \n",
    "            # 调用的时候，具体值参考的是位置，按位置赋值\n",
    "- 默认参数\n",
    "    - 形参带有默认值\n",
    "    - 调用的时候，如果没有对相应的形参赋值，则使用默认值\n",
    "            def funcName(arg1=v1, arg2=v2, ...):\n",
    "                funcBlock\n",
    "                    \n",
    "                # 调用1\n",
    "                funcName()\n",
    "                \n",
    "                # 调用2\n",
    "                v1 = 100\n",
    "                v2 = 200\n",
    "                funcName(v1, v2)\n",
    "- 关键字参数\n",
    "    - 语法\n",
    "            def func(p1=v1, p2=v2, ....):\n",
    "                funcBlock\n",
    "            调用函数\n",
    "                func(p1=v1, p2=v2)\n",
    "    - 比较麻烦，但也有好处\n",
    "        - 不同意混淆，一般实参和形参只是按照位置一一对应，容易出错\n",
    "        - 使用关键字参数，可以不考虑位置\n",
    "            "
   ]
  },
  {
   "cell_type": "code",
   "execution_count": 60,
   "metadata": {},
   "outputs": [
    {
     "name": "stdout",
     "output_type": "stream",
     "text": [
      "I am a student\n",
      "我叫18，我今年jingjing岁了，我住我家\n",
      "I am a student\n",
      "我叫jingjing，我今年18岁了，我住我家\n"
     ]
    }
   ],
   "source": [
    "# 关键字\n",
    "def stu(name, age, addr):\n",
    "    print(\"I am a student\")\n",
    "    print(\"我叫{0}，我今年{1}岁了，我住{2}\".format(name, age, addr))\n",
    "    \n",
    "n = \"jingjing\"\n",
    "a = 18\n",
    "addr = \"我家\"\n",
    "\n",
    "# 普通参数，只按照位置传递，容易出错\n",
    "stu(a, n, addr)\n",
    "\n",
    "def stuKey(name, age, addr):\n",
    "    print(\"I am a student\")\n",
    "    print(\"我叫{0}，我今年{1}岁了，我住{2}\".format(name, age, addr))\n",
    "    \n",
    "n = \"jingjing\"\n",
    "a = 18\n",
    "addr = \"我家\"\n",
    "\n",
    "# 普通参数，只按照位置传递，容易出错\n",
    "stuKey(age=a, name=n, addr=addr)"
   ]
  },
  {
   "cell_type": "markdown",
   "metadata": {},
   "source": [
    "## 收集参数-不定长参数\n",
    "- 把没有位置，不能和定义是的参数位置相对应的参数，放入一个特定的数据结构中\n",
    "- 语法\n",
    "        def func(*args):\n",
    "            funcBlock\n",
    "            按照list使用方式访问args得到的传入参数\n",
    "            \n",
    "        使用：\n",
    "        func(p1,p2,p3,...)\n",
    "- 参数名args不是必须这么写，但是，我们推荐使用args，约定俗成\n",
    "- 参数名args前须要星号---*\n",
    "- 收集参数可以和其他参数共存\n"
   ]
  },
  {
   "cell_type": "code",
   "execution_count": 61,
   "metadata": {},
   "outputs": [
    {
     "name": "stdout",
     "output_type": "stream",
     "text": [
      "------------------------------------------\n",
      "hello,大家好，我自我介绍下，简单说两句\n",
      "<class 'tuple'>\n",
      "liuying\n",
      "18\n",
      "北京大通州区\n",
      "wangxiaojing\n",
      "single\n",
      "------------------------------------------\n",
      "hello,大家好，我自我介绍下，简单说两句\n",
      "<class 'tuple'>\n",
      "周大神\n",
      "------------------------------------------\n",
      "hello,大家好，我自我介绍下，简单说两句\n",
      "<class 'tuple'>\n"
     ]
    }
   ],
   "source": [
    "# 收集参数\n",
    "# 函数模拟一个学生进行自我介绍，但具体内容不清楚\n",
    "# args把它看成一个list\n",
    "def stu(*args):\n",
    "    print(\"------------------------------------------\")\n",
    "    print(\"hello,大家好，我自我介绍下，简单说两句\")\n",
    "    # type函数作用是检测变量的类型\n",
    "    print(type(args))\n",
    "    for item in args:\n",
    "        print(item)\n",
    "\n",
    "stu(\"liuying\", 18, \"北京大通州区\", \"wangxiaojing\", \"single\")\n",
    "stu(\"周大神\")\n",
    "stu()"
   ]
  },
  {
   "cell_type": "markdown",
   "metadata": {},
   "source": [
    "### 收集参数之关键字收集参数\n",
    "- 把关键字参数按照字典格式存入收集参数\n",
    "- 语法\n",
    "        def func(**kwargs):\n",
    "            funcBlock\n",
    "            \n",
    "        # 调用\n",
    "        func(p1=v1, p2-v2,...)\n",
    "- kwargs 约定俗成的写法\n",
    "- 调用的时候，把多余的关键字参数放入kwargs中\n",
    "- 访问kwargs需要按字典格式访问"
   ]
  },
  {
   "cell_type": "code",
   "execution_count": null,
   "metadata": {},
   "outputs": [],
   "source": [
    "# 关键字收集参数\n",
    "# 自我介绍\n",
    "# 调用的时候需要使用关键字调用\n",
    "def stu(**kwargs):\n",
    "    print(\"*\" * 50) # 字符串乘法\n",
    "    print(type(kwargs))\n",
    "    # 在函数体内对于kwargs的使用不用带星号\n",
    "    print(\"Hello，大家好，我先自我介绍一下:\")\n",
    "    # 对于字典的访问，python2.x 跟python3.x有区别\n",
    "    for k,v in kwargs.items():\n",
    "        print(k,\"---\", v)\n",
    "        print(type(kwargs.items()))\n",
    "        \n",
    "stu(name=\"liuying\", age=19, addr=\"北京大通州区\", lover=\"王晓静\", work=\"Teacher\")\n",
    "stu(name=\"周大神\")\n",
    "stu()"
   ]
  },
  {
   "cell_type": "markdown",
   "metadata": {},
   "source": [
    "### 收集参数混合调用的顺序问题\n",
    "- 收集参数，关键字参数，普通参数可以混合使用\n",
    "- 使用规则就是，普通参数和关键字参数优先\n",
    "- 定义的时候一般找普通参数，收集参数tuple，关键字参数，普通参数dict"
   ]
  },
  {
   "cell_type": "code",
   "execution_count": null,
   "metadata": {},
   "outputs": [],
   "source": [
    "# 收集参数混合使用\n",
    "# stu模拟一个学生的自我介绍\n",
    "def stu(name, age, *args, hobby=\"没有\", **kwargs):\n",
    "    print(\"*\" * 50)\n",
    "    print(\"Hello，大家好\")\n",
    "    print(\"我叫{0}， 我今年{1}岁了\".format(name, age))\n",
    "    if hobby == \"没有\":\n",
    "        print(\"我没有爱好，谢谢\")\n",
    "    else:\n",
    "        print(\"我的爱好是{0}\".format(hobby))\n",
    "    \n",
    "    print(\"**********普通收集参数************************\")\n",
    "    for i in args:\n",
    "        print(i)\n",
    "    \n",
    "    print(\"**********关键字收集参数************************\")\n",
    "    for k,v in kwargs.items():\n",
    "        print(k, \"---\", v)\n",
    "        \n",
    "# 开始调用\n",
    "name = \"liuying\"\n",
    "age = 19\n",
    "\n",
    "# 调用不同格式\n",
    "#stu(name, age)\n",
    "#stu(name, age, \"游泳\")\n",
    "stu(name, age, \"王晓静\", \"刘石头\", hobby=\"游泳\", hobby2=\"烹饪\", hobby3=\"跟不同女生聊天\")"
   ]
  },
  {
   "cell_type": "markdown",
   "metadata": {},
   "source": [
    "### 收集参数的解包问题\n",
    "- 把参数放入list或者dict中，直接吧list、dict中的值放入手机参数中\n",
    "- 语法：看代码"
   ]
  },
  {
   "cell_type": "code",
   "execution_count": 44,
   "metadata": {},
   "outputs": [
    {
     "name": "stdout",
     "output_type": "stream",
     "text": [
      "******************************\n",
      "hahaha\n",
      "<class 'str'>\n",
      "0\n",
      "liuying\n",
      "<class 'str'>\n",
      "1\n",
      "liuxiaoying\n",
      "<class 'int'>\n",
      "2\n",
      "19\n",
      "<class 'int'>\n",
      "3\n",
      "200\n",
      "******************************\n",
      "hahaha\n",
      "<class 'list'>\n",
      "0\n",
      "['liuying', 'liuxiaoying', 19, 200]\n",
      "******************************\n",
      "hahaha\n",
      "<class 'str'>\n",
      "0\n",
      "liuying\n",
      "<class 'str'>\n",
      "1\n",
      "liuxiaoying\n",
      "<class 'int'>\n",
      "2\n",
      "19\n",
      "<class 'int'>\n",
      "3\n",
      "200\n"
     ]
    }
   ],
   "source": [
    "# 收集参数的解包问题\n",
    "def stu(*args):\n",
    "    print(\"*\" * 30)\n",
    "    print(\"hahaha\")\n",
    "    # 主要用来调试\n",
    "    n = 0\n",
    "    for i in args:\n",
    "        print(type(i))\n",
    "        print(n)\n",
    "        n += 1\n",
    "        print(i)\n",
    "        \n",
    "stu(\"liuying\", \"liuxiaoying\", 19, 200)\n",
    "\n",
    "l = list()\n",
    "l.append(\"liuying\")\n",
    "l.append(\"liuxiaoying\")\n",
    "l.append(19)\n",
    "l.append(200)\n",
    "# 这么写，会将list当成tuple的一个元素，所以for循环时只循环一次\n",
    "stu(l)\n",
    "# 如果要循环打印出list中的每一个元素，需要在实参前加上解包符号---*\n",
    "stu(*l)"
   ]
  },
  {
   "cell_type": "markdown",
   "metadata": {},
   "source": [
    "### 同理 dict类型收集参数一样可以解包，但是\n",
    "- 对dict类型进行解包\n",
    "- 解包符---**"
   ]
  },
  {
   "cell_type": "markdown",
   "metadata": {},
   "source": [
    "# 返回值\n",
    "- 函数和过程的区别\n",
    "    - 有无返回值\n",
    "- 需要用return返回\n",
    "- 如果没有返回，则默认返回None\n",
    "- 推荐写法，无论有无返回值，最后都要以return结束"
   ]
  },
  {
   "cell_type": "code",
   "execution_count": 47,
   "metadata": {},
   "outputs": [
    {
     "name": "stdout",
     "output_type": "stream",
     "text": [
      "有返回值\n",
      "1\n",
      "没有返回值2\n",
      "None\n",
      "没有返回值3\n",
      "None\n"
     ]
    }
   ],
   "source": [
    "# 返回值\n",
    "\n",
    "def func1():\n",
    "    print(\"有返回值\")\n",
    "    return 1\n",
    "\n",
    "def func2():\n",
    "    print(\"没有返回值2\")\n",
    "    \n",
    "def func3():\n",
    "    print(\"没有返回值3\")\n",
    "    return\n",
    "    \n",
    "f1 = func1()\n",
    "print(f1)\n",
    "\n",
    "f2 = func2()\n",
    "print(f2)\n",
    "\n",
    "f3 = func3()\n",
    "print(f3)"
   ]
  },
  {
   "cell_type": "markdown",
   "metadata": {},
   "source": [
    "# 函数文档\n",
    "- 函数文档的作用是对当前函数提供使用相关参考信息\n",
    "- 文档写法\n",
    "    - 在函数内部开始的第一行使用三引号字符串定义符\n",
    "    - 一般具体有特定格式\n",
    "    - 参看代码\n",
    "- 文档查看\n",
    "    - 使用help函数查看\n",
    "    - 使用__doc__，查看代码"
   ]
  },
  {
   "cell_type": "code",
   "execution_count": 50,
   "metadata": {},
   "outputs": [
    {
     "name": "stdout",
     "output_type": "stream",
     "text": [
      "Help on function stu in module __main__:\n",
      "\n",
      "stu(name, age, *args)\n",
      "    这是文档\n",
      "    第一行\n",
      "    第二行\n",
      "    第三行\n",
      "\n"
     ]
    },
    {
     "data": {
      "text/plain": [
       "'\\n    这是文档\\n    第一行\\n    第二行\\n    第三行\\n    '"
      ]
     },
     "execution_count": 50,
     "metadata": {},
     "output_type": "execute_result"
    }
   ],
   "source": [
    "# 文档\n",
    "# 函数stu是模拟一个学生的自我介绍的内容\n",
    "def stu(name, age, *args):\n",
    "    '''\n",
    "    这是文档\n",
    "    第一行\n",
    "    第二行\n",
    "    第三行\n",
    "    '''\n",
    "    print(\"This is func doc\")\n",
    "    \n",
    "# 查看函数文档\n",
    "help(stu)\n",
    "stu.__doc__"
   ]
  }
 ],
 "metadata": {
  "kernelspec": {
   "display_name": "Python 3",
   "language": "python",
   "name": "python3"
  },
  "language_info": {
   "codemirror_mode": {
    "name": "ipython",
    "version": 3
   },
   "file_extension": ".py",
   "mimetype": "text/x-python",
   "name": "python",
   "nbconvert_exporter": "python",
   "pygments_lexer": "ipython3",
   "version": "3.6.5"
  }
 },
 "nbformat": 4,
 "nbformat_minor": 2
}
